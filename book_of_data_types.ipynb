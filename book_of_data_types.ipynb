{
  "nbformat": 4,
  "nbformat_minor": 0,
  "metadata": {
    "colab": {
      "provenance": [],
      "authorship_tag": "ABX9TyMS+qOFDo/T4SB++OYS+xWL",
      "include_colab_link": true
    },
    "kernelspec": {
      "name": "python3",
      "display_name": "Python 3"
    },
    "language_info": {
      "name": "python"
    }
  },
  "cells": [
    {
      "cell_type": "markdown",
      "metadata": {
        "id": "view-in-github",
        "colab_type": "text"
      },
      "source": [
        "<a href=\"https://colab.research.google.com/github/ghazala25/clone-test/blob/main/book_of_data_types.ipynb\" target=\"_parent\"><img src=\"https://colab.research.google.com/assets/colab-badge.svg\" alt=\"Open In Colab\"/></a>"
      ]
    },
    {
      "cell_type": "code",
      "execution_count": 1,
      "metadata": {
        "colab": {
          "base_uri": "https://localhost:8080/"
        },
        "id": "SHYlieVq-TXt",
        "outputId": "6ebea644-e725-49b0-ab2e-b5a4c843adeb"
      },
      "outputs": [
        {
          "output_type": "stream",
          "name": "stdout",
          "text": [
            "range(0, 4)\n",
            "<class 'type'>\n"
          ]
        }
      ],
      "source": [
        "ages=range(4)\n",
        "print(range(4))\n",
        "print(type)\n"
      ]
    },
    {
      "cell_type": "code",
      "source": [
        "title=range(0,65,9)\n",
        "print(title)\n",
        "print(type(title))"
      ],
      "metadata": {
        "colab": {
          "base_uri": "https://localhost:8080/"
        },
        "id": "r4h-3l_dCLke",
        "outputId": "9f937eda-7180-44b1-e11f-394a908760e5"
      },
      "execution_count": 2,
      "outputs": [
        {
          "output_type": "stream",
          "name": "stdout",
          "text": [
            "range(0, 65, 9)\n",
            "<class 'range'>\n"
          ]
        }
      ]
    },
    {
      "cell_type": "code",
      "source": [
        "domain=(25,45,68,79,89,96,94,92)\n",
        "print(domain)\n",
        "print(type(domain))"
      ],
      "metadata": {
        "colab": {
          "base_uri": "https://localhost:8080/"
        },
        "id": "IXJIv8S3Cl82",
        "outputId": "ad0a46fc-745d-47be-a62f-b6273c6ec86a"
      },
      "execution_count": 4,
      "outputs": [
        {
          "output_type": "stream",
          "name": "stdout",
          "text": [
            "(25, 45, 68, 79, 89, 96, 94, 92)\n",
            "<class 'tuple'>\n"
          ]
        }
      ]
    }
  ]
}